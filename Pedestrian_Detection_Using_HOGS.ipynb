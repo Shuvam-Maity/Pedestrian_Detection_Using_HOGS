{
  "cells": [
    {
      "cell_type": "markdown",
      "id": "0e114994-54eb-4b34-9dd6-00fff4acc833",
      "metadata": {
        "id": "0e114994-54eb-4b34-9dd6-00fff4acc833"
      },
      "source": [
        "# **Pedestrian Detection Using HOGS**"
      ]
    },
    {
      "cell_type": "markdown",
      "source": [
        "Importing required libraries"
      ],
      "metadata": {
        "id": "c0gBl2LuJtyE"
      },
      "id": "c0gBl2LuJtyE"
    },
    {
      "cell_type": "code",
      "execution_count": null,
      "id": "e9592648-1b6d-4a88-8d8d-02319fcd38f6",
      "metadata": {
        "id": "e9592648-1b6d-4a88-8d8d-02319fcd38f6"
      },
      "outputs": [],
      "source": [
        "import cv2\n",
        "from imutils.object_detection import non_max_suppression\n",
        "from imutils import resize\n",
        "import numpy as np"
      ]
    },
    {
      "cell_type": "markdown",
      "source": [
        "Making a HogDescriptor object"
      ],
      "metadata": {
        "id": "m_JwDQnGKeoR"
      },
      "id": "m_JwDQnGKeoR"
    },
    {
      "cell_type": "code",
      "execution_count": null,
      "id": "bab53548-87a8-411c-ac60-1edbaa6341a9",
      "metadata": {
        "id": "bab53548-87a8-411c-ac60-1edbaa6341a9"
      },
      "outputs": [],
      "source": [
        "hog = cv2.HOGDescriptor()\n",
        "hog.setSVMDetector(cv2.HOGDescriptor_getDefaultPeopleDetector())"
      ]
    },
    {
      "cell_type": "markdown",
      "source": [
        "Load and Resize Image"
      ],
      "metadata": {
        "id": "gW7tZMs8MDcY"
      },
      "id": "gW7tZMs8MDcY"
    },
    {
      "cell_type": "code",
      "execution_count": null,
      "id": "79149efc-e65e-498c-ba77-44ee12b1429a",
      "metadata": {
        "id": "79149efc-e65e-498c-ba77-44ee12b1429a"
      },
      "outputs": [],
      "source": [
        "img = cv2.imread(\"C:\\\\Users\\\\HP\\\\Downloads\\\\HOGS.jpg\")\n",
        "img = resize(img,height=500)"
      ]
    },
    {
      "cell_type": "markdown",
      "source": [
        "Detect People"
      ],
      "metadata": {
        "id": "0fYDkxzAMIfG"
      },
      "id": "0fYDkxzAMIfG"
    },
    {
      "cell_type": "code",
      "execution_count": null,
      "id": "f0048262-0902-417d-b7db-6c821fd7e956",
      "metadata": {
        "id": "f0048262-0902-417d-b7db-6c821fd7e956"
      },
      "outputs": [],
      "source": [
        "rects,weights = hog.detectMultiScale(img,winStride=(4,4),padding=(8,8),scale=1.05)"
      ]
    },
    {
      "cell_type": "markdown",
      "source": [
        "Draw Initial Bounding Boxes"
      ],
      "metadata": {
        "id": "pviLQro2MMgF"
      },
      "id": "pviLQro2MMgF"
    },
    {
      "cell_type": "code",
      "execution_count": null,
      "id": "2437679b-6c11-47f7-b5b1-0e2591918279",
      "metadata": {
        "id": "2437679b-6c11-47f7-b5b1-0e2591918279"
      },
      "outputs": [],
      "source": [
        "copy = img.copy()\n",
        "for x,y,w,h in rects:\n",
        "    cv2.rectangle(copy,(x,y),(x+w,y+h),(0,0,255),2)"
      ]
    },
    {
      "cell_type": "markdown",
      "source": [
        "Show Pre-NMS Result"
      ],
      "metadata": {
        "id": "Q93_w5e2McVD"
      },
      "id": "Q93_w5e2McVD"
    },
    {
      "cell_type": "code",
      "execution_count": null,
      "id": "cb7300ac-d83e-4b55-824f-313d90b3964e",
      "metadata": {
        "id": "cb7300ac-d83e-4b55-824f-313d90b3964e",
        "outputId": "d893f544-ad95-4f53-987e-cf7f65bce232"
      },
      "outputs": [
        {
          "data": {
            "text/plain": [
              "-1"
            ]
          },
          "execution_count": 33,
          "metadata": {},
          "output_type": "execute_result"
        }
      ],
      "source": [
        "cv2.imshow('before suppression',copy)\n",
        "cv2.waitKey(0)"
      ]
    },
    {
      "cell_type": "markdown",
      "source": [
        "Apply Non-Maximum Suppression"
      ],
      "metadata": {
        "id": "Im3kipquMjPK"
      },
      "id": "Im3kipquMjPK"
    },
    {
      "cell_type": "code",
      "execution_count": null,
      "id": "7964c471-3557-4e1f-b33e-d89831fd642a",
      "metadata": {
        "id": "7964c471-3557-4e1f-b33e-d89831fd642a"
      },
      "outputs": [],
      "source": [
        "r = np.array([[x,y,x+w,y+h] for x,y,w,h in rects])\n",
        "pick = non_max_suppression(r,probs=None,overlapThresh=0.65)"
      ]
    },
    {
      "cell_type": "markdown",
      "source": [
        "Draw Final Bounding Boxes"
      ],
      "metadata": {
        "id": "L3vlBUp2W76X"
      },
      "id": "L3vlBUp2W76X"
    },
    {
      "cell_type": "code",
      "execution_count": null,
      "id": "9eaee010-e453-4d43-91e0-d18a8a1e7586",
      "metadata": {
        "id": "9eaee010-e453-4d43-91e0-d18a8a1e7586"
      },
      "outputs": [],
      "source": [
        "for xa,ya,xb,yb in pick:\n",
        "    cv2.rectangle(img,(xa,ya),(xb,yb),(0,255,0),2)"
      ]
    },
    {
      "cell_type": "markdown",
      "source": [
        "Show Final Output"
      ],
      "metadata": {
        "id": "HrU9Wc7ZXA_b"
      },
      "id": "HrU9Wc7ZXA_b"
    },
    {
      "cell_type": "code",
      "execution_count": null,
      "id": "bbec79f8-f9ca-4c7e-889d-6aa9a6b7ee95",
      "metadata": {
        "id": "bbec79f8-f9ca-4c7e-889d-6aa9a6b7ee95",
        "outputId": "803019c0-cc83-4c7c-fed8-b3461cba33ae"
      },
      "outputs": [
        {
          "data": {
            "text/plain": [
              "-1"
            ]
          },
          "execution_count": 39,
          "metadata": {},
          "output_type": "execute_result"
        }
      ],
      "source": [
        "cv2.imshow('after suppression',img)\n",
        "cv2.waitKey(0)"
      ]
    },
    {
      "cell_type": "code",
      "execution_count": null,
      "id": "2a1083c1-d1b3-4e2d-91cf-212c03e20799",
      "metadata": {
        "id": "2a1083c1-d1b3-4e2d-91cf-212c03e20799"
      },
      "outputs": [],
      "source": [
        "cv2.destroyAllWindows()"
      ]
    }
  ],
  "metadata": {
    "kernelspec": {
      "display_name": "Python 3 (ipykernel)",
      "language": "python",
      "name": "python3"
    },
    "language_info": {
      "codemirror_mode": {
        "name": "ipython",
        "version": 3
      },
      "file_extension": ".py",
      "mimetype": "text/x-python",
      "name": "python",
      "nbconvert_exporter": "python",
      "pygments_lexer": "ipython3",
      "version": "3.12.7"
    },
    "colab": {
      "provenance": []
    }
  },
  "nbformat": 4,
  "nbformat_minor": 5
}